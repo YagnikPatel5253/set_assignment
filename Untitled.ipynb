{
 "cells": [
  {
   "cell_type": "code",
   "execution_count": 1,
   "id": "00afbbc0-8798-4aaf-a5fc-d2d08dd8353c",
   "metadata": {},
   "outputs": [],
   "source": [
    "#Question 1\n",
    "#Set is a collection of unique and unordered elements enclosed in curly braces {}\n",
    "#We can add any elements in set for instance, string, int, float etc."
   ]
  },
  {
   "cell_type": "code",
   "execution_count": 2,
   "id": "df5a5a5d-094b-463a-8b67-a47be425d8f5",
   "metadata": {},
   "outputs": [
    {
     "data": {
      "text/plain": [
       "{1, 3.14, 5, 'Yagnik'}"
      ]
     },
     "execution_count": 2,
     "metadata": {},
     "output_type": "execute_result"
    }
   ],
   "source": [
    "#Question 2\n",
    "s1 = {1,5,\"Yagnik\", 3.14}\n",
    "s1"
   ]
  },
  {
   "cell_type": "code",
   "execution_count": 3,
   "id": "71f0bc53-06df-4ab1-9ef6-fa416e0174d5",
   "metadata": {},
   "outputs": [
    {
     "data": {
      "text/plain": [
       "set"
      ]
     },
     "execution_count": 3,
     "metadata": {},
     "output_type": "execute_result"
    }
   ],
   "source": [
    "type(s1)"
   ]
  },
  {
   "cell_type": "code",
   "execution_count": 4,
   "id": "edabedab-123f-4f46-a7ed-b436a2e2dda1",
   "metadata": {},
   "outputs": [],
   "source": [
    "#Question 3\n",
    "#We can add elements in a set uding add()\n",
    "s1.add(\"pwskills\")"
   ]
  },
  {
   "cell_type": "code",
   "execution_count": 5,
   "id": "26eaee0c-89ca-4f8e-b7a0-566c002c855b",
   "metadata": {},
   "outputs": [
    {
     "data": {
      "text/plain": [
       "{1, 3.14, 5, 'Yagnik', 'pwskills'}"
      ]
     },
     "execution_count": 5,
     "metadata": {},
     "output_type": "execute_result"
    }
   ],
   "source": [
    "s1"
   ]
  },
  {
   "cell_type": "code",
   "execution_count": 6,
   "id": "3c0f7460-d9bd-46da-9714-05405943cbbd",
   "metadata": {},
   "outputs": [],
   "source": [
    "#Question 4\n",
    "#we can remove elements in a set by remove() and discard()\n",
    "s1.remove(1)"
   ]
  },
  {
   "cell_type": "code",
   "execution_count": 9,
   "id": "23433a53-80b6-4853-82d7-1c101df3d5cf",
   "metadata": {},
   "outputs": [
    {
     "data": {
      "text/plain": [
       "{3.14, 5, 'Yagnik', 'pwskills'}"
      ]
     },
     "execution_count": 9,
     "metadata": {},
     "output_type": "execute_result"
    }
   ],
   "source": [
    "s1"
   ]
  },
  {
   "cell_type": "code",
   "execution_count": 12,
   "id": "5f62b243-1002-42c6-8356-3cd8a23350cc",
   "metadata": {},
   "outputs": [],
   "source": [
    "s1.discard(\"Yagnik\")"
   ]
  },
  {
   "cell_type": "code",
   "execution_count": 13,
   "id": "b06c3bb3-f48e-497a-9bf1-00314b368892",
   "metadata": {},
   "outputs": [
    {
     "data": {
      "text/plain": [
       "{3.14, 5, 'pwskills'}"
      ]
     },
     "execution_count": 13,
     "metadata": {},
     "output_type": "execute_result"
    }
   ],
   "source": [
    "s1"
   ]
  },
  {
   "cell_type": "code",
   "execution_count": 14,
   "id": "ee602d94-7a86-4ad2-a837-2ad9d3fdf7e8",
   "metadata": {},
   "outputs": [
    {
     "data": {
      "text/plain": [
       "3"
      ]
     },
     "execution_count": 14,
     "metadata": {},
     "output_type": "execute_result"
    }
   ],
   "source": [
    "#Question 5\n",
    "#We can get the length of a set using len()\n",
    "len(s1)"
   ]
  },
  {
   "cell_type": "code",
   "execution_count": null,
   "id": "4f1f933d-8c88-405a-ad6f-a27513e1b91d",
   "metadata": {},
   "outputs": [],
   "source": []
  }
 ],
 "metadata": {
  "kernelspec": {
   "display_name": "Python 3 (ipykernel)",
   "language": "python",
   "name": "python3"
  },
  "language_info": {
   "codemirror_mode": {
    "name": "ipython",
    "version": 3
   },
   "file_extension": ".py",
   "mimetype": "text/x-python",
   "name": "python",
   "nbconvert_exporter": "python",
   "pygments_lexer": "ipython3",
   "version": "3.10.8"
  }
 },
 "nbformat": 4,
 "nbformat_minor": 5
}
